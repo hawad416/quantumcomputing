{
  "nbformat": 4,
  "nbformat_minor": 0,
  "metadata": {
    "colab": {
      "provenance": [],
      "include_colab_link": true
    },
    "kernelspec": {
      "name": "python3",
      "display_name": "Python 3"
    },
    "language_info": {
      "name": "python"
    }
  },
  "cells": [
    {
      "cell_type": "markdown",
      "metadata": {
        "id": "view-in-github",
        "colab_type": "text"
      },
      "source": [
        "<a href=\"https://colab.research.google.com/github/hawad416/quantumcomputing/blob/main/QubitMapping_simpiflied.ipynb\" target=\"_parent\"><img src=\"https://colab.research.google.com/assets/colab-badge.svg\" alt=\"Open In Colab\"/></a>"
      ]
    },
    {
      "cell_type": "markdown",
      "source": [
        "# Qubit Mapping Problem"
      ],
      "metadata": {
        "id": "i3Bt9-s6nc1Q"
      }
    },
    {
      "cell_type": "code",
      "execution_count": null,
      "metadata": {
        "id": "cUaZVyGql9FD",
        "colab": {
          "base_uri": "https://localhost:8080/"
        },
        "outputId": "2a4403c7-3958-423f-a435-f9e91e486c29"
      },
      "outputs": [
        {
          "output_type": "stream",
          "name": "stdout",
          "text": [
            "Looking in indexes: https://pypi.org/simple, https://us-python.pkg.dev/colab-wheels/public/simple/\n",
            "Collecting qiskit\n",
            "  Downloading qiskit-0.43.1.tar.gz (9.6 kB)\n",
            "  Installing build dependencies ... \u001b[?25l\u001b[?25hdone\n",
            "  Getting requirements to build wheel ... \u001b[?25l\u001b[?25hdone\n",
            "  Installing backend dependencies ... \u001b[?25l\u001b[?25hdone\n",
            "  Preparing metadata (pyproject.toml) ... \u001b[?25l\u001b[?25hdone\n",
            "Requirement already satisfied: ipywidgets in /usr/local/lib/python3.10/dist-packages (7.7.1)\n",
            "Collecting qiskit-terra==0.24.1 (from qiskit)\n",
            "  Downloading qiskit_terra-0.24.1-cp310-cp310-manylinux_2_17_x86_64.manylinux2014_x86_64.whl (5.9 MB)\n",
            "\u001b[2K     \u001b[90m━━━━━━━━━━━━━━━━━━━━━━━━━━━━━━━━━━━━━━━━\u001b[0m \u001b[32m5.9/5.9 MB\u001b[0m \u001b[31m84.0 MB/s\u001b[0m eta \u001b[36m0:00:00\u001b[0m\n",
            "\u001b[?25hCollecting qiskit-aer==0.12.0 (from qiskit)\n",
            "  Downloading qiskit_aer-0.12.0-cp310-cp310-manylinux_2_17_x86_64.manylinux2014_x86_64.whl (12.8 MB)\n",
            "\u001b[2K     \u001b[90m━━━━━━━━━━━━━━━━━━━━━━━━━━━━━━━━━━━━━━━━\u001b[0m \u001b[32m12.8/12.8 MB\u001b[0m \u001b[31m68.9 MB/s\u001b[0m eta \u001b[36m0:00:00\u001b[0m\n",
            "\u001b[?25hCollecting qiskit-ibmq-provider==0.20.2 (from qiskit)\n",
            "  Downloading qiskit_ibmq_provider-0.20.2-py3-none-any.whl (241 kB)\n",
            "\u001b[2K     \u001b[90m━━━━━━━━━━━━━━━━━━━━━━━━━━━━━━━━━━━━━━\u001b[0m \u001b[32m241.5/241.5 kB\u001b[0m \u001b[31m25.0 MB/s\u001b[0m eta \u001b[36m0:00:00\u001b[0m\n",
            "\u001b[?25hRequirement already satisfied: numpy>=1.16.3 in /usr/local/lib/python3.10/dist-packages (from qiskit-aer==0.12.0->qiskit) (1.22.4)\n",
            "Requirement already satisfied: scipy>=1.0 in /usr/local/lib/python3.10/dist-packages (from qiskit-aer==0.12.0->qiskit) (1.10.1)\n",
            "Requirement already satisfied: requests>=2.19 in /usr/local/lib/python3.10/dist-packages (from qiskit-ibmq-provider==0.20.2->qiskit) (2.27.1)\n",
            "Collecting requests-ntlm<=1.1.0 (from qiskit-ibmq-provider==0.20.2->qiskit)\n",
            "  Downloading requests_ntlm-1.1.0-py2.py3-none-any.whl (5.7 kB)\n",
            "Requirement already satisfied: urllib3>=1.21.1 in /usr/local/lib/python3.10/dist-packages (from qiskit-ibmq-provider==0.20.2->qiskit) (1.26.15)\n",
            "Requirement already satisfied: python-dateutil>=2.8.0 in /usr/local/lib/python3.10/dist-packages (from qiskit-ibmq-provider==0.20.2->qiskit) (2.8.2)\n",
            "Requirement already satisfied: websocket-client>=1.5.1 in /usr/local/lib/python3.10/dist-packages (from qiskit-ibmq-provider==0.20.2->qiskit) (1.5.1)\n",
            "Collecting websockets>=10.0 (from qiskit-ibmq-provider==0.20.2->qiskit)\n",
            "  Downloading websockets-11.0.3-cp310-cp310-manylinux_2_5_x86_64.manylinux1_x86_64.manylinux_2_17_x86_64.manylinux2014_x86_64.whl (129 kB)\n",
            "\u001b[2K     \u001b[90m━━━━━━━━━━━━━━━━━━━━━━━━━━━━━━━━━━━━━━\u001b[0m \u001b[32m129.9/129.9 kB\u001b[0m \u001b[31m14.6 MB/s\u001b[0m eta \u001b[36m0:00:00\u001b[0m\n",
            "\u001b[?25hCollecting rustworkx>=0.12.0 (from qiskit-terra==0.24.1->qiskit)\n",
            "  Downloading rustworkx-0.13.0-cp310-cp310-manylinux_2_17_x86_64.manylinux2014_x86_64.whl (1.9 MB)\n",
            "\u001b[2K     \u001b[90m━━━━━━━━━━━━━━━━━━━━━━━━━━━━━━━━━━━━━━━━\u001b[0m \u001b[32m1.9/1.9 MB\u001b[0m \u001b[31m90.9 MB/s\u001b[0m eta \u001b[36m0:00:00\u001b[0m\n",
            "\u001b[?25hCollecting ply>=3.10 (from qiskit-terra==0.24.1->qiskit)\n",
            "  Downloading ply-3.11-py2.py3-none-any.whl (49 kB)\n",
            "\u001b[2K     \u001b[90m━━━━━━━━━━━━━━━━━━━━━━━━━━━━━━━━━━━━━━━━\u001b[0m \u001b[32m49.6/49.6 kB\u001b[0m \u001b[31m5.8 MB/s\u001b[0m eta \u001b[36m0:00:00\u001b[0m\n",
            "\u001b[?25hRequirement already satisfied: psutil>=5 in /usr/local/lib/python3.10/dist-packages (from qiskit-terra==0.24.1->qiskit) (5.9.5)\n",
            "Requirement already satisfied: sympy>=1.3 in /usr/local/lib/python3.10/dist-packages (from qiskit-terra==0.24.1->qiskit) (1.11.1)\n",
            "Collecting dill>=0.3 (from qiskit-terra==0.24.1->qiskit)\n",
            "  Downloading dill-0.3.6-py3-none-any.whl (110 kB)\n",
            "\u001b[2K     \u001b[90m━━━━━━━━━━━━━━━━━━━━━━━━━━━━━━━━━━━━━━\u001b[0m \u001b[32m110.5/110.5 kB\u001b[0m \u001b[31m13.2 MB/s\u001b[0m eta \u001b[36m0:00:00\u001b[0m\n",
            "\u001b[?25hCollecting stevedore>=3.0.0 (from qiskit-terra==0.24.1->qiskit)\n",
            "  Downloading stevedore-5.1.0-py3-none-any.whl (49 kB)\n",
            "\u001b[2K     \u001b[90m━━━━━━━━━━━━━━━━━━━━━━━━━━━━━━━━━━━━━━━━\u001b[0m \u001b[32m49.6/49.6 kB\u001b[0m \u001b[31m5.0 MB/s\u001b[0m eta \u001b[36m0:00:00\u001b[0m\n",
            "\u001b[?25hCollecting symengine<0.10,>=0.9 (from qiskit-terra==0.24.1->qiskit)\n",
            "  Downloading symengine-0.9.2-cp310-cp310-manylinux2010_x86_64.whl (37.5 MB)\n",
            "\u001b[2K     \u001b[90m━━━━━━━━━━━━━━━━━━━━━━━━━━━━━━━━━━━━━━━━\u001b[0m \u001b[32m37.5/37.5 MB\u001b[0m \u001b[31m19.8 MB/s\u001b[0m eta \u001b[36m0:00:00\u001b[0m\n",
            "\u001b[?25hRequirement already satisfied: ipykernel>=4.5.1 in /usr/local/lib/python3.10/dist-packages (from ipywidgets) (5.5.6)\n",
            "Requirement already satisfied: ipython-genutils~=0.2.0 in /usr/local/lib/python3.10/dist-packages (from ipywidgets) (0.2.0)\n",
            "Requirement already satisfied: traitlets>=4.3.1 in /usr/local/lib/python3.10/dist-packages (from ipywidgets) (5.7.1)\n",
            "Requirement already satisfied: widgetsnbextension~=3.6.0 in /usr/local/lib/python3.10/dist-packages (from ipywidgets) (3.6.4)\n",
            "Requirement already satisfied: ipython>=4.0.0 in /usr/local/lib/python3.10/dist-packages (from ipywidgets) (7.34.0)\n",
            "Requirement already satisfied: jupyterlab-widgets>=1.0.0 in /usr/local/lib/python3.10/dist-packages (from ipywidgets) (3.0.7)\n",
            "Requirement already satisfied: jupyter-client in /usr/local/lib/python3.10/dist-packages (from ipykernel>=4.5.1->ipywidgets) (6.1.12)\n",
            "Requirement already satisfied: tornado>=4.2 in /usr/local/lib/python3.10/dist-packages (from ipykernel>=4.5.1->ipywidgets) (6.3.1)\n",
            "Requirement already satisfied: setuptools>=18.5 in /usr/local/lib/python3.10/dist-packages (from ipython>=4.0.0->ipywidgets) (67.7.2)\n",
            "Collecting jedi>=0.16 (from ipython>=4.0.0->ipywidgets)\n",
            "  Downloading jedi-0.18.2-py2.py3-none-any.whl (1.6 MB)\n",
            "\u001b[2K     \u001b[90m━━━━━━━━━━━━━━━━━━━━━━━━━━━━━━━━━━━━━━━━\u001b[0m \u001b[32m1.6/1.6 MB\u001b[0m \u001b[31m88.7 MB/s\u001b[0m eta \u001b[36m0:00:00\u001b[0m\n",
            "\u001b[?25hRequirement already satisfied: decorator in /usr/local/lib/python3.10/dist-packages (from ipython>=4.0.0->ipywidgets) (4.4.2)\n",
            "Requirement already satisfied: pickleshare in /usr/local/lib/python3.10/dist-packages (from ipython>=4.0.0->ipywidgets) (0.7.5)\n",
            "Requirement already satisfied: prompt-toolkit!=3.0.0,!=3.0.1,<3.1.0,>=2.0.0 in /usr/local/lib/python3.10/dist-packages (from ipython>=4.0.0->ipywidgets) (3.0.38)\n",
            "Requirement already satisfied: pygments in /usr/local/lib/python3.10/dist-packages (from ipython>=4.0.0->ipywidgets) (2.14.0)\n",
            "Requirement already satisfied: backcall in /usr/local/lib/python3.10/dist-packages (from ipython>=4.0.0->ipywidgets) (0.2.0)\n",
            "Requirement already satisfied: matplotlib-inline in /usr/local/lib/python3.10/dist-packages (from ipython>=4.0.0->ipywidgets) (0.1.6)\n",
            "Requirement already satisfied: pexpect>4.3 in /usr/local/lib/python3.10/dist-packages (from ipython>=4.0.0->ipywidgets) (4.8.0)\n",
            "Requirement already satisfied: notebook>=4.4.1 in /usr/local/lib/python3.10/dist-packages (from widgetsnbextension~=3.6.0->ipywidgets) (6.4.8)\n",
            "Requirement already satisfied: parso<0.9.0,>=0.8.0 in /usr/local/lib/python3.10/dist-packages (from jedi>=0.16->ipython>=4.0.0->ipywidgets) (0.8.3)\n",
            "Requirement already satisfied: jinja2 in /usr/local/lib/python3.10/dist-packages (from notebook>=4.4.1->widgetsnbextension~=3.6.0->ipywidgets) (3.1.2)\n",
            "Requirement already satisfied: pyzmq>=17 in /usr/local/lib/python3.10/dist-packages (from notebook>=4.4.1->widgetsnbextension~=3.6.0->ipywidgets) (23.2.1)\n",
            "Requirement already satisfied: argon2-cffi in /usr/local/lib/python3.10/dist-packages (from notebook>=4.4.1->widgetsnbextension~=3.6.0->ipywidgets) (21.3.0)\n",
            "Requirement already satisfied: jupyter-core>=4.6.1 in /usr/local/lib/python3.10/dist-packages (from notebook>=4.4.1->widgetsnbextension~=3.6.0->ipywidgets) (5.3.0)\n",
            "Requirement already satisfied: nbformat in /usr/local/lib/python3.10/dist-packages (from notebook>=4.4.1->widgetsnbextension~=3.6.0->ipywidgets) (5.8.0)\n",
            "Requirement already satisfied: nbconvert in /usr/local/lib/python3.10/dist-packages (from notebook>=4.4.1->widgetsnbextension~=3.6.0->ipywidgets) (6.5.4)\n",
            "Requirement already satisfied: nest-asyncio>=1.5 in /usr/local/lib/python3.10/dist-packages (from notebook>=4.4.1->widgetsnbextension~=3.6.0->ipywidgets) (1.5.6)\n",
            "Requirement already satisfied: Send2Trash>=1.8.0 in /usr/local/lib/python3.10/dist-packages (from notebook>=4.4.1->widgetsnbextension~=3.6.0->ipywidgets) (1.8.0)\n",
            "Requirement already satisfied: terminado>=0.8.3 in /usr/local/lib/python3.10/dist-packages (from notebook>=4.4.1->widgetsnbextension~=3.6.0->ipywidgets) (0.17.1)\n",
            "Requirement already satisfied: prometheus-client in /usr/local/lib/python3.10/dist-packages (from notebook>=4.4.1->widgetsnbextension~=3.6.0->ipywidgets) (0.16.0)\n",
            "Requirement already satisfied: ptyprocess>=0.5 in /usr/local/lib/python3.10/dist-packages (from pexpect>4.3->ipython>=4.0.0->ipywidgets) (0.7.0)\n",
            "Requirement already satisfied: wcwidth in /usr/local/lib/python3.10/dist-packages (from prompt-toolkit!=3.0.0,!=3.0.1,<3.1.0,>=2.0.0->ipython>=4.0.0->ipywidgets) (0.2.6)\n",
            "Requirement already satisfied: six>=1.5 in /usr/local/lib/python3.10/dist-packages (from python-dateutil>=2.8.0->qiskit-ibmq-provider==0.20.2->qiskit) (1.16.0)\n",
            "Requirement already satisfied: certifi>=2017.4.17 in /usr/local/lib/python3.10/dist-packages (from requests>=2.19->qiskit-ibmq-provider==0.20.2->qiskit) (2022.12.7)\n",
            "Requirement already satisfied: charset-normalizer~=2.0.0 in /usr/local/lib/python3.10/dist-packages (from requests>=2.19->qiskit-ibmq-provider==0.20.2->qiskit) (2.0.12)\n",
            "Requirement already satisfied: idna<4,>=2.5 in /usr/local/lib/python3.10/dist-packages (from requests>=2.19->qiskit-ibmq-provider==0.20.2->qiskit) (3.4)\n",
            "Collecting ntlm-auth>=1.0.2 (from requests-ntlm<=1.1.0->qiskit-ibmq-provider==0.20.2->qiskit)\n",
            "  Downloading ntlm_auth-1.5.0-py2.py3-none-any.whl (29 kB)\n",
            "Requirement already satisfied: cryptography>=1.3 in /usr/local/lib/python3.10/dist-packages (from requests-ntlm<=1.1.0->qiskit-ibmq-provider==0.20.2->qiskit) (40.0.2)\n",
            "Collecting pbr!=2.1.0,>=2.0.0 (from stevedore>=3.0.0->qiskit-terra==0.24.1->qiskit)\n",
            "  Downloading pbr-5.11.1-py2.py3-none-any.whl (112 kB)\n",
            "\u001b[2K     \u001b[90m━━━━━━━━━━━━━━━━━━━━━━━━━━━━━━━━━━━━━━\u001b[0m \u001b[32m112.7/112.7 kB\u001b[0m \u001b[31m14.6 MB/s\u001b[0m eta \u001b[36m0:00:00\u001b[0m\n",
            "\u001b[?25hRequirement already satisfied: mpmath>=0.19 in /usr/local/lib/python3.10/dist-packages (from sympy>=1.3->qiskit-terra==0.24.1->qiskit) (1.3.0)\n",
            "Requirement already satisfied: cffi>=1.12 in /usr/local/lib/python3.10/dist-packages (from cryptography>=1.3->requests-ntlm<=1.1.0->qiskit-ibmq-provider==0.20.2->qiskit) (1.15.1)\n",
            "Requirement already satisfied: platformdirs>=2.5 in /usr/local/lib/python3.10/dist-packages (from jupyter-core>=4.6.1->notebook>=4.4.1->widgetsnbextension~=3.6.0->ipywidgets) (3.3.0)\n",
            "Requirement already satisfied: argon2-cffi-bindings in /usr/local/lib/python3.10/dist-packages (from argon2-cffi->notebook>=4.4.1->widgetsnbextension~=3.6.0->ipywidgets) (21.2.0)\n",
            "Requirement already satisfied: MarkupSafe>=2.0 in /usr/local/lib/python3.10/dist-packages (from jinja2->notebook>=4.4.1->widgetsnbextension~=3.6.0->ipywidgets) (2.1.2)\n",
            "Requirement already satisfied: lxml in /usr/local/lib/python3.10/dist-packages (from nbconvert->notebook>=4.4.1->widgetsnbextension~=3.6.0->ipywidgets) (4.9.2)\n",
            "Requirement already satisfied: beautifulsoup4 in /usr/local/lib/python3.10/dist-packages (from nbconvert->notebook>=4.4.1->widgetsnbextension~=3.6.0->ipywidgets) (4.11.2)\n",
            "Requirement already satisfied: bleach in /usr/local/lib/python3.10/dist-packages (from nbconvert->notebook>=4.4.1->widgetsnbextension~=3.6.0->ipywidgets) (6.0.0)\n",
            "Requirement already satisfied: defusedxml in /usr/local/lib/python3.10/dist-packages (from nbconvert->notebook>=4.4.1->widgetsnbextension~=3.6.0->ipywidgets) (0.7.1)\n",
            "Requirement already satisfied: entrypoints>=0.2.2 in /usr/local/lib/python3.10/dist-packages (from nbconvert->notebook>=4.4.1->widgetsnbextension~=3.6.0->ipywidgets) (0.4)\n",
            "Requirement already satisfied: jupyterlab-pygments in /usr/local/lib/python3.10/dist-packages (from nbconvert->notebook>=4.4.1->widgetsnbextension~=3.6.0->ipywidgets) (0.2.2)\n",
            "Requirement already satisfied: mistune<2,>=0.8.1 in /usr/local/lib/python3.10/dist-packages (from nbconvert->notebook>=4.4.1->widgetsnbextension~=3.6.0->ipywidgets) (0.8.4)\n",
            "Requirement already satisfied: nbclient>=0.5.0 in /usr/local/lib/python3.10/dist-packages (from nbconvert->notebook>=4.4.1->widgetsnbextension~=3.6.0->ipywidgets) (0.7.4)\n",
            "Requirement already satisfied: packaging in /usr/local/lib/python3.10/dist-packages (from nbconvert->notebook>=4.4.1->widgetsnbextension~=3.6.0->ipywidgets) (23.1)\n",
            "Requirement already satisfied: pandocfilters>=1.4.1 in /usr/local/lib/python3.10/dist-packages (from nbconvert->notebook>=4.4.1->widgetsnbextension~=3.6.0->ipywidgets) (1.5.0)\n",
            "Requirement already satisfied: tinycss2 in /usr/local/lib/python3.10/dist-packages (from nbconvert->notebook>=4.4.1->widgetsnbextension~=3.6.0->ipywidgets) (1.2.1)\n",
            "Requirement already satisfied: fastjsonschema in /usr/local/lib/python3.10/dist-packages (from nbformat->notebook>=4.4.1->widgetsnbextension~=3.6.0->ipywidgets) (2.16.3)\n",
            "Requirement already satisfied: jsonschema>=2.6 in /usr/local/lib/python3.10/dist-packages (from nbformat->notebook>=4.4.1->widgetsnbextension~=3.6.0->ipywidgets) (4.3.3)\n",
            "Requirement already satisfied: pycparser in /usr/local/lib/python3.10/dist-packages (from cffi>=1.12->cryptography>=1.3->requests-ntlm<=1.1.0->qiskit-ibmq-provider==0.20.2->qiskit) (2.21)\n",
            "Requirement already satisfied: attrs>=17.4.0 in /usr/local/lib/python3.10/dist-packages (from jsonschema>=2.6->nbformat->notebook>=4.4.1->widgetsnbextension~=3.6.0->ipywidgets) (23.1.0)\n",
            "Requirement already satisfied: pyrsistent!=0.17.0,!=0.17.1,!=0.17.2,>=0.14.0 in /usr/local/lib/python3.10/dist-packages (from jsonschema>=2.6->nbformat->notebook>=4.4.1->widgetsnbextension~=3.6.0->ipywidgets) (0.19.3)\n",
            "Requirement already satisfied: soupsieve>1.2 in /usr/local/lib/python3.10/dist-packages (from beautifulsoup4->nbconvert->notebook>=4.4.1->widgetsnbextension~=3.6.0->ipywidgets) (2.4.1)\n",
            "Requirement already satisfied: webencodings in /usr/local/lib/python3.10/dist-packages (from bleach->nbconvert->notebook>=4.4.1->widgetsnbextension~=3.6.0->ipywidgets) (0.5.1)\n",
            "Building wheels for collected packages: qiskit\n",
            "  Building wheel for qiskit (pyproject.toml) ... \u001b[?25l\u001b[?25hdone\n",
            "  Created wheel for qiskit: filename=qiskit-0.43.1-py3-none-any.whl size=8029 sha256=68d7ab98e610085dc64df46c6452e301a56ad7e40638543ffae9c6e10268f8f3\n",
            "  Stored in directory: /root/.cache/pip/wheels/f1/f6/ad/0f2527d2cc0028cd682619f1b50a24476fd3592e0c63f87282\n",
            "Successfully built qiskit\n",
            "Installing collected packages: ply, websockets, symengine, rustworkx, pbr, ntlm-auth, jedi, dill, stevedore, requests-ntlm, qiskit-terra, qiskit-ibmq-provider, qiskit-aer, qiskit\n",
            "Successfully installed dill-0.3.6 jedi-0.18.2 ntlm-auth-1.5.0 pbr-5.11.1 ply-3.11 qiskit-0.43.1 qiskit-aer-0.12.0 qiskit-ibmq-provider-0.20.2 qiskit-terra-0.24.1 requests-ntlm-1.1.0 rustworkx-0.13.0 stevedore-5.1.0 symengine-0.9.2 websockets-11.0.3\n"
          ]
        }
      ],
      "source": [
        "# install the qiskit runtime\n",
        "!pip install qiskit ipywidgets"
      ]
    },
    {
      "cell_type": "markdown",
      "source": [
        "## 1. Prerequisite Quantum Background (~10 min)"
      ],
      "metadata": {
        "id": "8NVPoZkVM66_"
      }
    },
    {
      "cell_type": "markdown",
      "source": [
        "### 1.1 Generalized GHZ Circuit (~5min)\n",
        "\n",
        "Let us revisit the circuit for preparing the generalized GHZ state: $\\vert 00\\cdots 0\\rangle \\to \\frac{1}{\\sqrt{2}}(\\vert 00\\cdots 0\\rangle + \\vert 11\\cdots 1\\rangle)$."
      ],
      "metadata": {
        "id": "5ILp7XJYnvup"
      }
    },
    {
      "cell_type": "code",
      "source": [
        "from qiskit import QuantumCircuit, transpile\n",
        "from qiskit.visualization import plot_coupling_map\n",
        "num_qubit = 5\n",
        "qc = QuantumCircuit(num_qubit)\n",
        "qc.h(0)\n",
        "qc.cx(0,1)\n",
        "qc.cx(1,4)\n",
        "qc.cx(0,3)\n",
        "qc.cx(3,2)\n",
        "qc.draw()"
      ],
      "metadata": {
        "colab": {
          "base_uri": "https://localhost:8080/",
          "height": 186
        },
        "id": "dxPPo3JynzXp",
        "outputId": "1f0949af-d9be-4611-a3fd-fcf6e2164f00"
      },
      "execution_count": null,
      "outputs": [
        {
          "output_type": "execute_result",
          "data": {
            "text/plain": [
              "     ┌───┐                    \n",
              "q_0: ┤ H ├──■─────────■───────\n",
              "     └───┘┌─┴─┐       │       \n",
              "q_1: ─────┤ X ├──■────┼───────\n",
              "          └───┘  │    │  ┌───┐\n",
              "q_2: ────────────┼────┼──┤ X ├\n",
              "                 │  ┌─┴─┐└─┬─┘\n",
              "q_3: ────────────┼──┤ X ├──■──\n",
              "               ┌─┴─┐└───┘     \n",
              "q_4: ──────────┤ X ├──────────\n",
              "               └───┘          "
            ],
            "text/html": [
              "<pre style=\"word-wrap: normal;white-space: pre;background: #fff0;line-height: 1.1;font-family: &quot;Courier New&quot;,Courier,monospace\">     ┌───┐                    \n",
              "q_0: ┤ H ├──■─────────■───────\n",
              "     └───┘┌─┴─┐       │       \n",
              "q_1: ─────┤ X ├──■────┼───────\n",
              "          └───┘  │    │  ┌───┐\n",
              "q_2: ────────────┼────┼──┤ X ├\n",
              "                 │  ┌─┴─┐└─┬─┘\n",
              "q_3: ────────────┼──┤ X ├──■──\n",
              "               ┌─┴─┐└───┘     \n",
              "q_4: ──────────┤ X ├──────────\n",
              "               └───┘          </pre>"
            ]
          },
          "metadata": {},
          "execution_count": 5
        }
      ]
    },
    {
      "cell_type": "markdown",
      "source": [
        "### 1.2. Superconducting Quantum Devices (~5min)"
      ],
      "metadata": {
        "id": "RmdcKW2npz8Q"
      }
    },
    {
      "cell_type": "markdown",
      "source": [
        "#### Square Connected Device"
      ],
      "metadata": {
        "id": "RNYTIbQTtOO5"
      }
    },
    {
      "cell_type": "code",
      "source": [
        "num_device_qubits = 9\n",
        "qubit_coordinates = [[0, 0], [0, 1], [0, 2], [1, 0], [1, 1], [1, 2], [2, 0], [2, 1], [2, 2]]\n",
        "coupling_map = [[0, 1], [1, 2], [0, 3], [1, 4], [2, 5], [3, 4], [4, 5], [6, 7], [7, 8], [3, 6], [4, 7], [5, 8]]\n",
        "plot_coupling_map(num_device_qubits, qubit_coordinates, coupling_map)"
      ],
      "metadata": {
        "colab": {
          "base_uri": "https://localhost:8080/",
          "height": 422
        },
        "id": "EUAXq_nzoalq",
        "outputId": "1f2223e6-1a6a-4253-c330-0446999bc08a"
      },
      "execution_count": null,
      "outputs": [
        {
          "output_type": "execute_result",
          "data": {
            "text/plain": [
              "<Figure size 500x500 with 1 Axes>"
            ],
            "image/png": "[encoded data removed]"
          },
          "metadata": {},
          "execution_count": 6
        }
      ]
    },
    {
      "cell_type": "markdown",
      "source": [
        "A superconducting quantum device is often characterized by its coupling graph, as shown in the figure above. The coupling map defines the connectivity between physical qubits. We can perform a CX gate only on two neighboring physical qubits, i.e., two physical qubits connected by one edge (e.g., $q_0$ and $q_1$ in the figure above)."
      ],
      "metadata": {
        "id": "oVPp-qolezpg"
      }
    },
    {
      "cell_type": "markdown",
      "source": [
        "#### Linear Connected Device"
      ],
      "metadata": {
        "id": "xJ__A6gKuFY5"
      }
    },
    {
      "cell_type": "code",
      "source": [
        "num_device_qubits = 9\n",
        "qubit_coordinates = [[0, 0], [0, 1], [0, 2], [0, 3], [0, 4], [0, 5], [0, 6], [0, 7], [0, 8]]\n",
        "coupling_map = [[0, 1], [1, 2], [2, 3], [3, 4], [4, 5], [5, 6], [6, 7], [7, 8]]\n",
        "plot_coupling_map(num_device_qubits, qubit_coordinates, coupling_map)"
      ],
      "metadata": {
        "colab": {
          "base_uri": "https://localhost:8080/",
          "height": 176
        },
        "id": "-D93_PWctzBA",
        "outputId": "20f5ada8-4f36-403f-e280-0ae6c22e83c9"
      },
      "execution_count": null,
      "outputs": [
        {
          "output_type": "execute_result",
          "data": {
            "text/plain": [
              "<Figure size 900x300 with 1 Axes>"
            ],
            "image/png": "[encoded data removed]"
          },
          "metadata": {},
          "execution_count": 7
        }
      ]
    },
    {
      "cell_type": "markdown",
      "source": [
        "## 2. Mapping Circuit Qubits to Device Qubits (~30min)\n",
        "\n",
        "To execute the quantum circuit on the quantum device, the first step is to map the logical qubits of the quantum circuit to the physical qubits on the quantum device.\n",
        "\n",
        "We first look at an example of qubit mapping and then introduce how to evalute the quality of one **qubit mapping** between the quantum circuit and the quantum device."
      ],
      "metadata": {
        "id": "Dyl9V_A5tfLo"
      }
    },
    {
      "cell_type": "markdown",
      "source": [
        "### 2.1 Evaluation of Qubit Mapping (~10min)\n",
        "\n",
        "Before we start to map circuit qubits on device, we should know whether a mapping is good or not, so that we know how to further tweak the performance of one mapping.\n",
        "\n",
        "One general form of loss function for qubit mapping\n",
        "\n",
        "$$L(M, D, S, P, circ) = \\sum_{P_i\\in P(circ)}\\sum_{CX_{jk}\\in P_i} S(i)D(M(q_j),M(q_k)),$$\n",
        "\n",
        "The notations are explained as follows,\n",
        "- $P$ is a partition function that divides the quantum circuit into a series of subcircuits $P_i$. Note that subcircuits $P_i$ are ordered according to their occurence ordering in the original quantum circuit. A commonly used partition function $P$ is the as soon as possible layering of the quantum circuit. We would elaborate on it later.\n",
        "\n",
        "- $S(i)$ is the penality function for the ocurrence ordering $i$ of subscircuit $P(i)$. Generally, we believe the effect of one qubit mapping should decay as we go deeper in the circuit. A commonly used penality function is $S(i) = e^{-i}$.\n",
        "\n",
        "- $M$ is the qubit mapping function that maps the circuit qubit to the device qubit. For example, if $q_i$ is a logical qubit in the quantum circuit, $M(q_i)$ is a physical qubit on the quantum computer.\n",
        "\n",
        "- $D(M(q_i), M(q_j))$ quantifies the cost of performing the **CX** gate on physical qubits $M(q_i)$ and $M(q_j)$. Note that, in the superconducting quantum computer, if we want to perform a CX gate between non-neighboring physical qubits $M(q_i)$ and $M(q_j)$, we need to move the qubit information of $M(q_i)$ and $M(q_j)$ close to each other. Thus, one commonly used $D(M(q_i), M(q_j))$ is **the length of the shortest path** between $M(q_i)$ and $M(q_j)$ in the coupling graph of the underlying quantum device.\n",
        "\n",
        "Generally, we prefer a qubit mapping method with a smaller loss $L$."
      ],
      "metadata": {
        "id": "HtB3SbrRwL5l"
      }
    },
    {
      "cell_type": "markdown",
      "source": [
        "Let's first implement a parition function that divides a circuit into layers according to the earliest execution time slot of each gate."
      ],
      "metadata": {
        "id": "k1tiCxETj4GL"
      }
    },
    {
      "cell_type": "code",
      "source": [
        "# ~2min\n",
        "# Partition Function P\n",
        "ghz_circ = [('H',0),('CX',0,1),('CX',1,4),('CX',0,3),('CX',3,2)] # Each gate: H, 0 --> Hadamard gate on qubit 0\n",
        "def partition_func(circ):\n",
        "    num_qubit = max([max(g[1:]) for g in circ]) + 1\n",
        "\n",
        "    ############# find the ealiest time slot for each gate to execute #############\n",
        "    # initilize qubit_tick and gate_tick as all zeros\n",
        "    qubit_tick = [0 for i in range(num_qubit)] # current available time slot of each qubit to assign gate\n",
        "    gate_tick = [0 for g in circ] # the time slot to execute one gate\n",
        "    for i, g in enumerate(circ): # enumerate gate g of circ\n",
        "        cur_ticks = max([qubit_tick[q] for q in g[1:]]) # get current available time slot to assign gate\n",
        "        gate_tick[i] = cur_ticks # assign the gate to the current time slot\n",
        "        # print('\\ti={}, g={}:\\n\\t\\tqubit_tick={}\\tgate_tick={}'.format(i,g, qubit_tick, gate_tick))\n",
        "        for q in g[1:]:\n",
        "            qubit_tick[q] = cur_ticks + 1 # increment the next available time slot of each qubit in the assigned gate\n",
        "    depth = max(qubit_tick) # the total number of time slot needed to execute the circuit\n",
        "\n",
        "    ############# partition the gates according to their time slots #############\n",
        "    layered_circ = [[] for i in range(depth)]\n",
        "    for i, g in enumerate(circ):\n",
        "        layered_circ[gate_tick[i]].append(g) # partition the circuit according to time slots\n",
        "    return layered_circ\n",
        "\n",
        "\n",
        "layered_circ = partition_func(circ)\n",
        "for i, layer in enumerate(layered_circ):\n",
        "    print(f'Layer {i+1}: {layer}') # show the layered circuit"
      ],
      "metadata": {
        "colab": {
          "base_uri": "https://localhost:8080/"
        },
        "id": "BzMQBQOLkdD4",
        "outputId": "14e95044-c04b-4ad1-da76-d1ec6454b559"
      },
      "execution_count": null,
      "outputs": [
        {
          "output_type": "stream",
          "name": "stdout",
          "text": [
            "Layer 1: [('H', 0)]\n",
            "Layer 2: [('CX', 0, 1)]\n",
            "Layer 3: [('CX', 1, 4), ('CX', 0, 3)]\n",
            "Layer 4: [('CX', 3, 2)]\n"
          ]
        }
      ]
    },
    {
      "cell_type": "markdown",
      "source": [
        "We can separate the layers with barriers and draw the circuit again"
      ],
      "metadata": {
        "id": "wOEgv5LkTv-J"
      }
    },
    {
      "cell_type": "code",
      "source": [
        "def to_layered_qiskit_circuit(layered_circ, num_qubit):\n",
        "    qc = QuantumCircuit(num_qubit)\n",
        "    for layer in layered_circ:\n",
        "        # add all gates of a layer\n",
        "        for g in layer:\n",
        "            if g[0] == 'H':\n",
        "                qc.h(g[1])\n",
        "            elif g[0] == 'CX':\n",
        "                qc.cx(g[1],g[2])\n",
        "            else:\n",
        "                pass\n",
        "        # add a barrier for each layer\n",
        "        qc.barrier(range(num_qubit))\n",
        "    return qc\n",
        "\n",
        "qc = to_layered_qiskit_circuit(layered_circ, 5)\n",
        "qc.draw()"
      ],
      "metadata": {
        "colab": {
          "base_uri": "https://localhost:8080/",
          "height": 186
        },
        "id": "stJDJ5Qa1Jgn",
        "outputId": "20b71fa5-c3c8-48f2-8e8d-9058103dbc8b"
      },
      "execution_count": null,
      "outputs": [
        {
          "output_type": "execute_result",
          "data": {
            "text/plain": [
              "     ┌───┐ ░       ░            ░       ░ \n",
              "q_0: ┤ H ├─░───■───░────────■───░───────░─\n",
              "     └───┘ ░ ┌─┴─┐ ░        │   ░       ░ \n",
              "q_1: ──────░─┤ X ├─░───■────┼───░───────░─\n",
              "           ░ └───┘ ░   │    │   ░ ┌───┐ ░ \n",
              "q_2: ──────░───────░───┼────┼───░─┤ X ├─░─\n",
              "           ░       ░   │  ┌─┴─┐ ░ └─┬─┘ ░ \n",
              "q_3: ──────░───────░───┼──┤ X ├─░───■───░─\n",
              "           ░       ░ ┌─┴─┐└───┘ ░       ░ \n",
              "q_4: ──────░───────░─┤ X ├──────░───────░─\n",
              "           ░       ░ └───┘      ░       ░ "
            ],
            "text/html": [
              "<pre style=\"word-wrap: normal;white-space: pre;background: #fff0;line-height: 1.1;font-family: &quot;Courier New&quot;,Courier,monospace\">     ┌───┐ ░       ░            ░       ░ \n",
              "q_0: ┤ H ├─░───■───░────────■───░───────░─\n",
              "     └───┘ ░ ┌─┴─┐ ░        │   ░       ░ \n",
              "q_1: ──────░─┤ X ├─░───■────┼───░───────░─\n",
              "           ░ └───┘ ░   │    │   ░ ┌───┐ ░ \n",
              "q_2: ──────░───────░───┼────┼───░─┤ X ├─░─\n",
              "           ░       ░   │  ┌─┴─┐ ░ └─┬─┘ ░ \n",
              "q_3: ──────░───────░───┼──┤ X ├─░───■───░─\n",
              "           ░       ░ ┌─┴─┐└───┘ ░       ░ \n",
              "q_4: ──────░───────░─┤ X ├──────░───────░─\n",
              "           ░       ░ └───┘      ░       ░ </pre>"
            ]
          },
          "metadata": {},
          "execution_count": 20
        }
      ]
    },
    {
      "cell_type": "markdown",
      "source": [
        "Then we define a penalty function that decays exponential with the layer number."
      ],
      "metadata": {
        "id": "C1-fztAZkL3G"
      }
    },
    {
      "cell_type": "code",
      "source": [
        "# ~0.5min\n",
        "# Penalty function S\n",
        "def penalty_func(i): return 2.718**(-1*i) # higher layer number, less weight\n",
        "print(penalty_func(0))"
      ],
      "metadata": {
        "colab": {
          "base_uri": "https://localhost:8080/"
        },
        "id": "x8JltCstxVC2",
        "outputId": "54d62bf9-0125-4e73-9a20-1ce90d0773bf"
      },
      "execution_count": null,
      "outputs": [
        {
          "output_type": "stream",
          "name": "stdout",
          "text": [
            "1.0\n"
          ]
        }
      ]
    },
    {
      "cell_type": "markdown",
      "source": [
        "For each pair of physical qubit (M(q_i), M(q_j)), we can find their shortest path in the coupling graph."
      ],
      "metadata": {
        "id": "V9cJRxd0kZwM"
      }
    },
    {
      "cell_type": "code",
      "source": [
        "# ~1min\n",
        "# CX Cost Function D(q'_i,q'_j), q'_i=M(q_i), q'_j=M(q_j).\n",
        "def dijkstra_algorithm(source, destination, graph):\n",
        "    maxsize = 100000\n",
        "    num_node = len(graph) # graph is the adjacency matrix\n",
        "    dist = [maxsize for i in range(num_node)] # the distance from the source node\n",
        "    visited = [False for i in range(num_node)] # if this node is visited or not\n",
        "    dist[source] = 0 # start searching from source node\n",
        "    for count in range(num_node):\n",
        "        # find the node which is closest to the source node\n",
        "        # among unvisted node according to previous computation\n",
        "        min_val = maxsize\n",
        "        for v in range(num_node):\n",
        "            if visited[v] == False and dist[v] < min_val:\n",
        "                min_val = dist[v]\n",
        "                min_index = v\n",
        "        visited[min_index] = True # mark this node is already visited\n",
        "        # update the distance according to the new visited node\n",
        "        for v in range(num_node):\n",
        "            if graph[min_index][v] > 0 and visited[v] == False:\n",
        "                if dist[v] > dist[min_index]+graph[min_index][v]:\n",
        "                    dist[v] = dist[min_index]+graph[min_index][v]\n",
        "        if visited[destination] == True: # the search ends at destination node\n",
        "            break\n",
        "    return dist[destination]\n",
        "\n",
        "def cx_dist_func(q_a, q_b, coupling_map): # the dijkstra's algorithm\n",
        "    num_physical_qubit = max([max(edge[:2]) for edge in coupling_map])+1 # the number of physical qubits on quantum device\n",
        "    graph = [[0 for i in range(num_physical_qubit)] for j in range(num_physical_qubit)] # adjacency matrix\n",
        "    for edge in coupling_map:\n",
        "        graph[edge[0]][edge[1]] = 1\n",
        "        graph[edge[1]][edge[0]] = 1\n",
        "    return dijkstra_algorithm(q_a, q_b, graph) - 1\n",
        "\n",
        "#Let's try it on the linear coupling map\n",
        "coupling_map = [[0, 1], [1, 2], [2, 3], [3, 4], [4, 5], [5, 6], [6, 7], [7, 8]]\n",
        "print(coupling_map)\n",
        "cx_dist_func(0,8,coupling_map)"
      ],
      "metadata": {
        "colab": {
          "base_uri": "https://localhost:8080/"
        },
        "id": "H_3jZgclx6W_",
        "outputId": "908a15e3-67cc-4371-90f6-c098b9965f6b"
      },
      "execution_count": null,
      "outputs": [
        {
          "output_type": "stream",
          "name": "stdout",
          "text": [
            "[[0, 1], [1, 2], [2, 3], [3, 4], [4, 5], [5, 6], [6, 7], [7, 8]]\n"
          ]
        },
        {
          "output_type": "execute_result",
          "data": {
            "text/plain": [
              "7"
            ]
          },
          "metadata": {},
          "execution_count": 22
        }
      ]
    },
    {
      "cell_type": "markdown",
      "source": [
        "The loss function of a mapping can be calculated by summing the distances of all qubit pairs weighted by corresponding penalties."
      ],
      "metadata": {
        "id": "KuhLYgNGnycN"
      }
    },
    {
      "cell_type": "code",
      "source": [
        "# ~0.5min\n",
        "# Loss function\n",
        "def loss_for_mapping(partition_func, penalty_func, dist_func, mapping_func, circuit, coupling_map):\n",
        "    parted_circuit = partition_func(circuit)\n",
        "    loss_val = 0\n",
        "    mapped_qubit = mapping_func(circ, coupling_map)\n",
        "    for i, subcirc in enumerate(parted_circuit):\n",
        "        for g in subcirc: # enumerate gate g of subcirc\n",
        "            if g[0] in ['CX']: # two-qubit gate\n",
        "                q_a_physical = mapped_qubit[g[1]] # physical qubit\n",
        "                q_b_physical = mapped_qubit[g[2]] # physical qubit\n",
        "                loss_val += penalty_func(i)*dist_func(q_a_physical, q_b_physical, coupling_map)\n",
        "    return loss_val"
      ],
      "metadata": {
        "id": "oltmzzXfNci9"
      },
      "execution_count": null,
      "outputs": []
    },
    {
      "cell_type": "markdown",
      "source": [
        "### 2.2 Exploration of Qubit Mapping Functions"
      ],
      "metadata": {
        "id": "5LHG-zoSPnzj"
      }
    },
    {
      "cell_type": "markdown",
      "source": [
        "#### Optimal Qubit Mapping (~3min)"
      ],
      "metadata": {
        "id": "GFqysSMwDjgA"
      }
    },
    {
      "cell_type": "code",
      "source": [
        "num_device_qubits = 9\n",
        "qubit_coordinates = [[0, 0], [0, 1], [0, 2], [0, 3], [0, 4], [0, 5], [0, 6], [0, 7], [0, 8]]\n",
        "coupling_map = [[0, 1], [1, 2], [2, 3], [3, 4], [4, 5], [5, 6], [6, 7], [7, 8]]\n",
        "plot_coupling_map(num_device_qubits, qubit_coordinates, coupling_map)"
      ],
      "metadata": {
        "colab": {
          "base_uri": "https://localhost:8080/",
          "height": 176
        },
        "id": "SgZXZFxrzRGF",
        "outputId": "21fbbab5-4e2a-4e5f-8f6c-0005d895b55c"
      },
      "execution_count": null,
      "outputs": [
        {
          "output_type": "execute_result",
          "data": {
            "text/plain": [
              "<Figure size 900x300 with 1 Axes>"
            ],
            "image/png": "[encoded data removed]"
          },
          "metadata": {},
          "execution_count": 24
        }
      ]
    },
    {
      "cell_type": "code",
      "source": [
        "#ghz_circ = [('H',0),('CX',0,1),('CX',1,4),('CX',0,3),('CX',3,2)]\n",
        "linear_device_coupling_map = [[0, 1], [1, 2], [2, 3], [3, 4], [4, 5], [5, 6], [6, 7], [7, 8]]\n",
        "\n",
        "def manual_mapping_func(circuit, coupling_map):\n",
        "    return [2,1,4,3,0]\n",
        "\n",
        "print(loss_for_mapping(partition_func, penalty_func, cx_dist_func, manual_mapping_func, ghz_circ, linear_device_coupling_map))"
      ],
      "metadata": {
        "colab": {
          "base_uri": "https://localhost:8080/"
        },
        "id": "wuoeWCEXDoGH",
        "outputId": "5eeaf62d-7e10-48c0-87e5-a8231d821cc6"
      },
      "execution_count": null,
      "outputs": [
        {
          "output_type": "stream",
          "name": "stdout",
          "text": [
            "0.0\n"
          ]
        }
      ]
    },
    {
      "cell_type": "markdown",
      "source": [
        "#### Naive Qubit Mapping (~1min)"
      ],
      "metadata": {
        "id": "f1PM1jUzDCb_"
      }
    },
    {
      "cell_type": "code",
      "source": [
        "def simple_mapping_func(circuit, coupling_map):\n",
        "    num_circ_qubits = max([max(g[1:]) for g in circuit]) + 1\n",
        "    return [i for i in range(num_circ_qubits)] # naive mapping\n",
        "\n",
        "print(loss_for_mapping(partition_func, penalty_func, cx_dist_func, simple_mapping_func, ghz_circ, linear_device_coupling_map))"
      ],
      "metadata": {
        "colab": {
          "base_uri": "https://localhost:8080/"
        },
        "id": "UpwwGnNsPmPk",
        "outputId": "77dabbd2-8f14-4fb7-8920-13f39d15001c"
      },
      "execution_count": null,
      "outputs": [
        {
          "output_type": "stream",
          "name": "stdout",
          "text": [
            "0.5414534017080689\n"
          ]
        }
      ]
    },
    {
      "cell_type": "markdown",
      "source": [
        "#### Random Qubit Mapping (~1min)"
      ],
      "metadata": {
        "id": "m67Quc1VEs9d"
      }
    },
    {
      "cell_type": "code",
      "source": [
        "def random_mapping_func(circuit, coupling_map, seed=100):\n",
        "    num_circ_qubits = max([max(g[1:]) for g in circuit]) + 1\n",
        "    physical_qubits = []\n",
        "    for edge in coupling_map:\n",
        "        for qb in edge:\n",
        "            if qb not in physical_qubits:\n",
        "                physical_qubits.append(qb)\n",
        "    import random\n",
        "    random.seed(seed)\n",
        "    random.shuffle(physical_qubits)\n",
        "    #print(physical_qubits)\n",
        "    return [physical_qubits[i] for i in range(num_circ_qubits)]\n",
        "\n",
        "loss_sum = 0\n",
        "trial_count = 10\n",
        "for i in range(trial_count):\n",
        "    random_mapping_func_seeded = lambda circuit,coupling_map: random_mapping_func(circuit, coupling_map, seed=i)\n",
        "    loss_per_run = loss_for_mapping(partition_func, penalty_func, cx_dist_func, random_mapping_func_seeded, ghz_circ, linear_device_coupling_map)\n",
        "    print(\"random iteration:\", loss_per_run)\n",
        "    loss_sum += loss_per_run\n",
        "print(\"averaged:\", loss_sum/trial_count)"
      ],
      "metadata": {
        "colab": {
          "base_uri": "https://localhost:8080/"
        },
        "id": "nC9dprfQErxe",
        "outputId": "5ee6aea9-de0a-436f-81c0-adbda0a7d7a0"
      },
      "execution_count": null,
      "outputs": [
        {
          "output_type": "stream",
          "name": "stdout",
          "text": [
            "random iteration: 0.8238101949260175\n",
            "random iteration: 0.37033181522270053\n",
            "random iteration: 0.8711985233482828\n",
            "random iteration: 1.6234922461575982\n",
            "random iteration: 1.3536335042701721\n",
            "random iteration: 0.6768167521350861\n",
            "random iteration: 1.6833786259103862\n",
            "random iteration: 2.518818913200318\n",
            "random iteration: 1.5644738253714188\n",
            "random iteration: 1.2913328957553163\n",
            "averaged: 1.2777287296297295\n"
          ]
        }
      ]
    },
    {
      "cell_type": "markdown",
      "source": [
        "### 2.3 Qiskit Mapping Algorithms\n",
        "Let's look at some qubit mapping algorithms supported by Qiskit package."
      ],
      "metadata": {
        "id": "fQnnGKXrVUtS"
      }
    },
    {
      "cell_type": "markdown",
      "source": [
        "#### Qiskit: SABRE Qubit Mapping (~5min)\n",
        "\n",
        "First, we use the SABRE mapping, which is one of standard qubit mapping methods in Qiskit."
      ],
      "metadata": {
        "id": "T2hgEUtePjvn"
      }
    },
    {
      "cell_type": "code",
      "source": [
        "# The example of Qiskit SABRE mapping\n",
        "from qiskit.transpiler import CouplingMap, Layout\n",
        "from qiskit.transpiler.passes import SabreLayout\n",
        "from qiskit.transpiler import PassManager\n",
        "\n",
        "# the GHZ state preparation circuit\n",
        "num_qubit = 5\n",
        "qc = QuantumCircuit(num_qubit)\n",
        "qc.h(0)\n",
        "qc.cx(0,1)\n",
        "qc.cx(1,4)\n",
        "qc.cx(0,3)\n",
        "qc.cx(3,2)\n",
        "\n",
        "coupling_map = CouplingMap(couplinglist=linear_device_coupling_map)\n",
        "\n",
        "sl = SabreLayout(coupling_map=coupling_map) # SABRE qubit mapping algorithm\n",
        "pass_manager = PassManager(sl)\n",
        "mapped_circ = pass_manager.run(qc)"
      ],
      "metadata": {
        "id": "FP0Mjtn3Pikv"
      },
      "execution_count": null,
      "outputs": []
    },
    {
      "cell_type": "code",
      "source": [
        "mapped_circ.draw()"
      ],
      "metadata": {
        "colab": {
          "base_uri": "https://localhost:8080/",
          "height": 310
        },
        "id": "PtXl3hCGuLL0",
        "outputId": "8a4189cf-b351-4ec7-873f-df76d012f873"
      },
      "execution_count": null,
      "outputs": [
        {
          "output_type": "execute_result",
          "data": {
            "text/plain": [
              "                                   \n",
              "ancilla_0 -> 0 ────────────────────\n",
              "                                   \n",
              "ancilla_1 -> 1 ────────────────────\n",
              "                         ┌───┐     \n",
              "      q_4 -> 2 ──────────┤ X ├─────\n",
              "                    ┌───┐└─┬─┘     \n",
              "      q_1 -> 3 ─────┤ X ├──■───────\n",
              "               ┌───┐└─┬─┘          \n",
              "      q_0 -> 4 ┤ H ├──■────■───────\n",
              "               └───┘     ┌─┴─┐     \n",
              "      q_3 -> 5 ──────────┤ X ├──■──\n",
              "                         └───┘┌─┴─┐\n",
              "      q_2 -> 6 ───────────────┤ X ├\n",
              "                              └───┘\n",
              "ancilla_2 -> 7 ────────────────────\n",
              "                                   \n",
              "ancilla_3 -> 8 ────────────────────\n",
              "                                   "
            ],
            "text/html": [
              "<pre style=\"word-wrap: normal;white-space: pre;background: #fff0;line-height: 1.1;font-family: &quot;Courier New&quot;,Courier,monospace\">                                   \n",
              "ancilla_0 -> 0 ────────────────────\n",
              "                                   \n",
              "ancilla_1 -> 1 ────────────────────\n",
              "                         ┌───┐     \n",
              "      q_4 -> 2 ──────────┤ X ├─────\n",
              "                    ┌───┐└─┬─┘     \n",
              "      q_1 -> 3 ─────┤ X ├──■───────\n",
              "               ┌───┐└─┬─┘          \n",
              "      q_0 -> 4 ┤ H ├──■────■───────\n",
              "               └───┘     ┌─┴─┐     \n",
              "      q_3 -> 5 ──────────┤ X ├──■──\n",
              "                         └───┘┌─┴─┐\n",
              "      q_2 -> 6 ───────────────┤ X ├\n",
              "                              └───┘\n",
              "ancilla_2 -> 7 ────────────────────\n",
              "                                   \n",
              "ancilla_3 -> 8 ────────────────────\n",
              "                                   </pre>"
            ]
          },
          "metadata": {},
          "execution_count": 30
        }
      ]
    },
    {
      "cell_type": "code",
      "source": [
        "# Let's inspect the qubit mapping result of Qiskit\n",
        "# Interpretation:\n",
        "# Qubit(QuantumRegister(5, 'q'), 0): 4 indicates that the circuit qubit 0 (among the 5 circuit qubits) is on device physical qubit 4\n",
        "\n",
        "mapped_circ.layout.initial_layout.get_virtual_bits()\n",
        "\n"
      ],
      "metadata": {
        "colab": {
          "base_uri": "https://localhost:8080/"
        },
        "id": "TS5ZFxJVw4GU",
        "outputId": "854b7c0b-19e9-48dc-c71a-d13d83495989"
      },
      "execution_count": null,
      "outputs": [
        {
          "output_type": "execute_result",
          "data": {
            "text/plain": [
              "{Qubit(QuantumRegister(5, 'q'), 0): 4,\n",
              " Qubit(QuantumRegister(5, 'q'), 1): 3,\n",
              " Qubit(QuantumRegister(5, 'q'), 2): 6,\n",
              " Qubit(QuantumRegister(5, 'q'), 3): 5,\n",
              " Qubit(QuantumRegister(5, 'q'), 4): 2,\n",
              " Qubit(QuantumRegister(4, 'ancilla'), 0): 0,\n",
              " Qubit(QuantumRegister(4, 'ancilla'), 1): 1,\n",
              " Qubit(QuantumRegister(4, 'ancilla'), 2): 7,\n",
              " Qubit(QuantumRegister(4, 'ancilla'), 3): 8}"
            ]
          },
          "metadata": {},
          "execution_count": 31
        }
      ]
    },
    {
      "cell_type": "code",
      "source": [
        "# Wrap Qiskit SABRE Code\n",
        "ghz_circ = [('H',0), ('CX',0,1), ('CX',1,4), ('CX',0,3), ('CX',3,2)]\n",
        "\n",
        "def SABRE_mapping_qiskit(circuit, coupling_map):\n",
        "    num_circ_qubits = max([max(g[1:]) for g in circuit]) + 1\n",
        "    qc = QuantumCircuit(num_circ_qubits)\n",
        "    for g in circuit:\n",
        "        if g[0] == 'H':\n",
        "            qc.h(g[1])\n",
        "        elif g[0] == 'CX':\n",
        "            qc.cx(g[1], g[2])\n",
        "        else:\n",
        "            pass # add new conversion rules as you like\n",
        "    coupling_map = CouplingMap(couplinglist=coupling_map)\n",
        "    sl = SabreLayout(coupling_map=coupling_map) # SABRE qubit mapping algorithm\n",
        "    pass_manager = PassManager(sl)\n",
        "    mapped_circ = pass_manager.run(qc)\n",
        "\n",
        "\n",
        "    mapping_dict = {} # circuit qubit --> physical qubit\n",
        "    for qb in range(num_circ_qubits):\n",
        "        mapping_dict[qb] = -1\n",
        "\n",
        "    count = 0\n",
        "    for k, v in mapped_circ.layout.initial_layout.get_virtual_bits().items():\n",
        "       # print(k, v)\n",
        "        lqb = int(str(k)[:-1].split()[-1])\n",
        "        count = count + 1\n",
        "        if count <= num_qubit:\n",
        "          mapping_dict[lqb] = v\n",
        "        #  print(k, v, lqb)\n",
        "    return [mapping_dict[qb] for qb in range(num_circ_qubits)]\n",
        "\n",
        "print('The qubit mapping by SABRE is:',)\n",
        "print( SABRE_mapping_qiskit(ghz_circ, linear_device_coupling_map))\n",
        "print('\\nThe corresponding loss is:',)\n",
        "loss_for_mapping(partition_func, penalty_func, cx_dist_func, SABRE_mapping_qiskit, ghz_circ, linear_device_coupling_map)"
      ],
      "metadata": {
        "colab": {
          "base_uri": "https://localhost:8080/"
        },
        "id": "V1cAqhtsyP9m",
        "outputId": "fd6e29d9-b48c-44e3-ab81-4b3c8f3e520f"
      },
      "execution_count": null,
      "outputs": [
        {
          "output_type": "stream",
          "name": "stdout",
          "text": [
            "The qubit mapping by SABRE is:\n",
            "[6, 7, 4, 5, 8]\n",
            "\n",
            "The corresponding loss is:\n"
          ]
        },
        {
          "output_type": "execute_result",
          "data": {
            "text/plain": [
              "0.3205292580383675"
            ]
          },
          "metadata": {},
          "execution_count": 33
        }
      ]
    },
    {
      "cell_type": "markdown",
      "source": [
        "#### Graph Theory Based Qubit Mapping (~10min)\n",
        "\n",
        "For visualization, we define a function of drawing coupling graphs."
      ],
      "metadata": {
        "id": "FWk5on2cOTz0"
      }
    },
    {
      "cell_type": "code",
      "source": [
        "import networkx as nx\n",
        "def draw_graph(nodes, edges):\n",
        "    G = nx.Graph()\n",
        "    if nodes != None:\n",
        "        G.add_nodes_from(nodes)\n",
        "    if edges != None:\n",
        "        G.add_edges_from(edges)\n",
        "    pos=nx.spring_layout(G)\n",
        "    # draw custom node color\n",
        "    color_map_dict = nx.get_node_attributes(G,\"color\")\n",
        "    color_map = []\n",
        "    for v in G.nodes:\n",
        "        if v in color_map_dict:\n",
        "            color_map.append(color_map_dict[v])\n",
        "        else:\n",
        "            color_map.append('gray')\n",
        "    nx.draw_networkx_nodes(G, pos,node_color=color_map)\n",
        "    nx.draw_networkx_edges(G, pos)\n",
        "    # nx.draw_networkx(G,pos,node_color=color_map)\n",
        "    # draw custom node label\n",
        "    node_label_map_dict = nx.get_node_attributes(G,\"label\")\n",
        "    for v in G.nodes:\n",
        "        if v not in node_label_map_dict:\n",
        "            node_label_map_dict[v] = str(v)\n",
        "    nx.draw_networkx_labels(G, pos, node_label_map_dict)\n",
        "    # draw custom edge weight\n",
        "    weight_labels = nx.get_edge_attributes(G,'weight')\n",
        "    nx.draw_networkx_edge_labels(G,pos,edge_labels=weight_labels)"
      ],
      "metadata": {
        "id": "EujQtDdrOhA5"
      },
      "execution_count": null,
      "outputs": []
    },
    {
      "cell_type": "code",
      "source": [
        "draw_graph([(1,{'color': 'red', 'label': '1:q_0'})],[(0,1,{'weight':0.2})])"
      ],
      "metadata": {
        "colab": {
          "base_uri": "https://localhost:8080/",
          "height": 406
        },
        "id": "0WhkiO6eOlna",
        "outputId": "6324bed1-1781-4036-ff76-7af12bca22bc"
      },
      "execution_count": null,
      "outputs": [
        {
          "output_type": "display_data",
          "data": {
            "text/plain": [
              "<Figure size 640x480 with 1 Axes>"
            ],
            "image/png": "[encoded data removed]"
          },
          "metadata": {}
        }
      ]
    },
    {
      "cell_type": "markdown",
      "source": [
        "When the number of qubits in the circuit is larger than the number of physical qubits on the chip, we want to find a connected sub coupling graph with max connections for qubit mapping. Here we first find the node with the max degree in the coupling graph, and from that node, search for a maximally connected subgraph by adding the nodes with max connections."
      ],
      "metadata": {
        "id": "fhUyI78KOqTU"
      }
    },
    {
      "cell_type": "code",
      "source": [
        "# find a maximally connected sub graph (with num_selected_node nodes) from coupling_map for qubit mapping\n",
        "def get_maximally_connected_subgraph(coupling_map, num_selected_node):\n",
        "    num_nodes = max([max(edge[:2]) for edge in coupling_map])+1\n",
        "    graph = [[0 for i in range(num_nodes)] for j in range(num_nodes)] # adjacency matrix\n",
        "    for edge in coupling_map:\n",
        "        graph[edge[0]][edge[1]] = 1\n",
        "        graph[edge[1]][edge[0]] = 1\n",
        "    selected_nodes = []\n",
        "\n",
        "    # find the the node with the max degree\n",
        "    max_val = 0\n",
        "    for v in range(num_nodes):\n",
        "        if sum(graph[v]) > max_val:\n",
        "            max_val = sum(graph[v])\n",
        "            max_index = v\n",
        "    selected_nodes = [max_index]\n",
        "\n",
        "    # Start searching from node max_index\n",
        "    for i in range(num_selected_node-1):\n",
        "        connected_degree = 0\n",
        "        # find the node that has max connections with selected_nodes\n",
        "        for v in range(num_nodes):\n",
        "            if v not in selected_nodes:\n",
        "                s = sum([graph[v][v1] for v1 in selected_nodes])\n",
        "                if s > connected_degree:\n",
        "                    connected_degree = s\n",
        "                    v_index = v\n",
        "        # add the maximally connected node to selected_nodes\n",
        "        selected_nodes.append(v_index)\n",
        "        if len(selected_nodes) == num_selected_node:\n",
        "            break\n",
        "    return selected_nodes\n",
        "\n",
        "linear_device_coupling_map = [[0, 1], [1, 2], [2, 3], [3, 4], [4, 5], [5, 6], [6, 7], [7, 8]]\n",
        "num_circ_qubits = 5\n",
        "selected_nodes = get_maximally_connected_subgraph(linear_device_coupling_map, num_circ_qubits)\n",
        "\n",
        "draw_graph([(v, {'color':'red'}) for v in selected_nodes], linear_device_coupling_map) # plot selected subgraph for mapping circuit qubits"
      ],
      "metadata": {
        "colab": {
          "base_uri": "https://localhost:8080/",
          "height": 406
        },
        "id": "wBOjnRseOsNY",
        "outputId": "447d04bc-a958-4da4-e10b-fde633fb7fa9"
      },
      "execution_count": null,
      "outputs": [
        {
          "output_type": "display_data",
          "data": {
            "text/plain": [
              "<Figure size 640x480 with 1 Axes>"
            ],
            "image/png": "[encoded data removed]"
          },
          "metadata": {}
        }
      ]
    },
    {
      "cell_type": "markdown",
      "source": [
        "Now we can do the qubit mapping. We first construct a circuit qubit interaction graph to store the penalty factor of each qubit pair in a CX gate. Then we implement an algorithm that maps circuit qubits of higher connectivity to physical qubits of higher connectivity."
      ],
      "metadata": {
        "id": "30hS_cmLPMgz"
      }
    },
    {
      "cell_type": "code",
      "source": [
        "# construct circuit qubit interaction graph circ_graph to store the penalty factor of each qubit pair in a CX gate\n",
        "def get_circuit_interaction_graph(input_circuit):\n",
        "    num_circ_qubits = max([max(g[1:]) for g in input_circuit]) + 1\n",
        "    #print(num_circ_qubits)\n",
        "    # construct circuit qubit interaction graph\n",
        "    circ_graph = [[0 for i in range(num_circ_qubits)] for j in range(num_circ_qubits)]\n",
        "    qubit_tick = [0 for i in range(num_circ_qubits)] # current available time slot of each qubit to assign gate\n",
        "    for g in input_circuit: # enumerate gate g of circ\n",
        "        cur_ticks = max([qubit_tick[q] for q in g[1:]]) # current available time slot to assign gate\n",
        "        for q in g[1:]:\n",
        "            qubit_tick[q] = cur_ticks + 1 # next available time slot of each qubit to assign gate\n",
        "        if g[0] in ['CX']: # if two-qubit gate\n",
        "            circ_graph[g[1]][g[2]] += 2.718**(-(cur_ticks-1)) # the edge weight by gate g\n",
        "            circ_graph[g[2]][g[1]] = circ_graph[g[1]][g[2]]\n",
        "           # print(\"g[1], g[2], cur_ticks):\", g[1], g[2], cur_ticks, circ_graph[g[2]][g[1]])\n",
        "    return circ_graph\n",
        "\n",
        "\n",
        "#random_circ = [('H',0), ('H',4), ('CX',0,1),('CX',2,4),('CX',0,5),('CX',4,3)] # Each gate: H, 0 --> Hadamard gate on qubit 0\n",
        "print(get_circuit_interaction_graph(ghz_circ))\n",
        "# print(get_circuit_interaction_graph(random_circ))"
      ],
      "metadata": {
        "colab": {
          "base_uri": "https://localhost:8080/"
        },
        "id": "51rTTM_UzmpS",
        "outputId": "0c29cfb7-d635-4fe3-f91d-659c4dab6876"
      },
      "execution_count": null,
      "outputs": [
        {
          "output_type": "stream",
          "name": "stdout",
          "text": [
            "[[0, 1.0, 0, 0.36791758646063283, 0], [1.0, 0, 0, 0, 0.36791758646063283], [0, 0, 0, 0.13536335042701722, 0], [0.36791758646063283, 0, 0.13536335042701722, 0, 0], [0, 0.36791758646063283, 0, 0, 0]]\n"
          ]
        }
      ]
    },
    {
      "cell_type": "markdown",
      "source": [
        "##### Example for showing how to draw the qubit interaction graph of an example circuit."
      ],
      "metadata": {
        "id": "kBFoQWadzmKM"
      }
    },
    {
      "cell_type": "code",
      "source": [
        "# plot the qubit interaction graph of the circuit\n",
        "circ_graph = get_circuit_interaction_graph(ghz_circ)\n",
        "nodes = [i for i in range(num_circ_qubits)]\n",
        "edges = []\n",
        "for i in range(num_circ_qubits):\n",
        "    for j in range(i, num_circ_qubits):\n",
        "        if circ_graph[i][j] > 0:\n",
        "            edges.append((i,j,{'weight':round(circ_graph[i][j],2)}))\n",
        "\n",
        "draw_graph(nodes, edges)"
      ],
      "metadata": {
        "colab": {
          "base_uri": "https://localhost:8080/",
          "height": 406
        },
        "id": "EXKQYNnJlK7W",
        "outputId": "eff3d591-766c-42ec-be68-85b085d17d6e"
      },
      "execution_count": null,
      "outputs": [
        {
          "output_type": "display_data",
          "data": {
            "text/plain": [
              "<Figure size 640x480 with 1 Axes>"
            ],
            "image/png": "[encoded data removed]"
          },
          "metadata": {}
        }
      ]
    },
    {
      "cell_type": "code",
      "source": [
        "# map qubit interaction graph to device coupling graph: higher connectivity circuit qubit --> higher connectivity physical qubit\n",
        "def graph_circuit_mapping(circuit, coupling_map):\n",
        "    num_circ_qubits = max([max(g[1:]) for g in circuit]) + 1\n",
        "\n",
        "    # construct device coupling graph\n",
        "    num_nodes = max([max(edge[:2]) for edge in coupling_map])+1\n",
        "    device_graph = [[0 for i in range(num_nodes)] for j in range(num_nodes)] # adjacency matrix\n",
        "    for edge in coupling_map:\n",
        "        device_graph[edge[0]][edge[1]] = 1\n",
        "        device_graph[edge[1]][edge[0]] = 1\n",
        "\n",
        "    # selected maximally connected physical qubits for mapping circuit qubits\n",
        "    selected_physical_qubits = get_maximally_connected_subgraph(coupling_map, num_circ_qubits)\n",
        "    physical_qubit_neighbor_dict = {}\n",
        "    for i in selected_physical_qubits:\n",
        "        physical_qubit_neighbor_dict[i] = []\n",
        "    for i in selected_physical_qubits:\n",
        "        for j in selected_physical_qubits:\n",
        "            if device_graph[i][j] > 0:\n",
        "                physical_qubit_neighbor_dict[i].append(j)\n",
        "\n",
        "    # construct circuit graph\n",
        "    circ_graph = get_circuit_interaction_graph(circuit)\n",
        "\n",
        "    # start to map circuit qubits\n",
        "    mapping_dict = {}\n",
        "\n",
        "    # Find the highest degree circuit qubit index qb_index\n",
        "    max_val = 0\n",
        "    for qb in range(num_circ_qubits):\n",
        "        #print(\"logical\", qb, sum(circ_graph[qb]))\n",
        "        if sum(circ_graph[qb]) > max_val:\n",
        "            max_val = sum(circ_graph[qb])\n",
        "            qb_index = qb\n",
        "\n",
        "    # Find the highest degree selected physical qubit pqb_index\n",
        "    max_val = 0\n",
        "    for pqb in selected_physical_qubits:\n",
        "        #print(\"physical\", pqb,len(physical_qubit_neighbor_dict[pqb]))\n",
        "        if len(physical_qubit_neighbor_dict[pqb]) > max_val:\n",
        "            max_val = len(physical_qubit_neighbor_dict[pqb])\n",
        "            pqb_index = pqb\n",
        "\n",
        "    visited = {}\n",
        "    for pqb in selected_physical_qubits:\n",
        "        visited[pqb] = False\n",
        "    mapping_dict[qb_index] = pqb_index # assign the highest degree circuit qubit to the highest degree physical qubit\n",
        "    visited[pqb_index] = True\n",
        "    #print(\"highest degree logic qubit\", qb_index, \"mapped to physical qubit\", pqb_index)\n",
        "\n",
        "    # traverse the circuit qubits in descending order of their interactions\n",
        "    for qb in sorted(range(num_circ_qubits), key=lambda qb: -sum(circ_graph[qb])):\n",
        "        #print(\"Deciding logic qubt\", qb, \"'s assignment\")\n",
        "\n",
        "        if qb not in mapping_dict:\n",
        "            # sort the \"assigned\" qubits in descending order of their interactions with qb\n",
        "            sorted_qlist = sorted(mapping_dict.keys(), key=lambda mqb: -circ_graph[mqb][qb])\n",
        "            #print(qb, \"'s sorted_qlist\", sorted_qlist)\n",
        "\n",
        "            # place qb to the neighbor of the qubit that has the most interaction with qb\n",
        "            for mqb in sorted_qlist:\n",
        "                #print(\"checking its neighbor \", mqb, \"which is physicsally mapped to\", mapping_dict[mqb])\n",
        "                for pqb in physical_qubit_neighbor_dict[mapping_dict[mqb]]:\n",
        "                    if visited[pqb] == False:\n",
        "                        mapping_dict[qb] = pqb\n",
        "                        #print(\"Finalize logic qubt\", qb, \"assignment to\", pqb)\n",
        "                        visited[pqb] = True\n",
        "                        break\n",
        "            if qb not in mapping_dict: # if we do not find mapping of qb in neighbors\n",
        "                max_val = 0\n",
        "                for pqb in selected_physical_qubits:\n",
        "                    if visited[pqb] == False and len(physical_qubit_neighbor_dict[pqb]) > max_val:\n",
        "                        max_val = len(physical_qubit_neighbor_dict[pqb])\n",
        "                        pqb_index = pqb\n",
        "                        print(pqb, len(physical_qubit_neighbor_dict[pqb]))\n",
        "                mapping_dict[qb] = pqb_index\n",
        "                visited[pqb_index] = True\n",
        "    return [mapping_dict[qb] for qb in range(num_circ_qubits)]\n",
        "\n",
        "\n",
        "print(graph_circuit_mapping(ghz_circ, linear_device_coupling_map))\n",
        "loss_for_mapping(partition_func, penalty_func, cx_dist_func, graph_circuit_mapping, ghz_circ, linear_device_coupling_map)"
      ],
      "metadata": {
        "colab": {
          "base_uri": "https://localhost:8080/"
        },
        "id": "iedJyLgWPPkj",
        "outputId": "08c53bb7-b1c0-49eb-d2fc-3d49ad71d4a2"
      },
      "execution_count": null,
      "outputs": [
        {
          "output_type": "stream",
          "name": "stdout",
          "text": [
            "[2, 1, 5, 3, 4]\n"
          ]
        },
        {
          "output_type": "execute_result",
          "data": {
            "text/plain": [
              "0.3205292580383675"
            ]
          },
          "metadata": {},
          "execution_count": 47
        }
      ]
    },
    {
      "cell_type": "markdown",
      "source": [
        "#### Qiskit: VF2 Layout (~5min)\n",
        "\n",
        "Second, we use a pass for choosing the qubit mapping of a circuit onto a coupling graph, as a a subgraph isomorphism problem, solved by VF2++. It is one of the qubit mapping methods supported by Qiskit."
      ],
      "metadata": {
        "id": "eiBYVh_H3i-k"
      }
    },
    {
      "cell_type": "markdown",
      "source": [
        "##### Key insight is that if we plot qubit interaction graph of the circuit, we may find that there is a subgraph in the hardware coupling graph that matches perfectly well with it.\n",
        "\n",
        "Let us check the qubit interactiion graph of the example circuit again.\n"
      ],
      "metadata": {
        "id": "Wk_BApaFlxxE"
      }
    },
    {
      "cell_type": "code",
      "source": [
        "# plot the qubit interaction graph of the circuit\n",
        "circ_graph = get_circuit_interaction_graph(ghz_circ)\n",
        "nodes = [i for i in range(num_circ_qubits)]\n",
        "edges = []\n",
        "for i in range(num_circ_qubits):\n",
        "    for j in range(i, num_circ_qubits):\n",
        "        if circ_graph[i][j] > 0:\n",
        "            edges.append((i,j,{'weight':round(circ_graph[i][j],2)}))\n",
        "\n",
        "draw_graph(nodes, edges)"
      ],
      "metadata": {
        "colab": {
          "base_uri": "https://localhost:8080/",
          "height": 406
        },
        "id": "B41WL_dgtgRC",
        "outputId": "66430ebf-c6bf-4e3c-efdb-9f94e7e04fa7"
      },
      "execution_count": null,
      "outputs": [
        {
          "output_type": "display_data",
          "data": {
            "text/plain": [
              "<Figure size 640x480 with 1 Axes>"
            ],
            "image/png": "[encoded data removed]"
          },
          "metadata": {}
        }
      ]
    },
    {
      "cell_type": "code",
      "source": [
        "# The example of Qiskit VF2 mapping\n",
        "from qiskit.transpiler import CouplingMap, Layout\n",
        "from qiskit.transpiler.passes import VF2Layout\n",
        "from qiskit.transpiler import PassManager\n",
        "\n",
        "# the GHZ state preparation circuit\n",
        "num_qubit = 5\n",
        "qc = QuantumCircuit(num_qubit)\n",
        "qc.h(0)\n",
        "qc.cx(0,1)\n",
        "qc.cx(1,4)\n",
        "qc.cx(0,3)\n",
        "qc.cx(3,2)\n",
        "\n",
        "coupling_map = CouplingMap(couplinglist=linear_device_coupling_map)\n",
        "\n",
        "vf2 = VF2Layout(coupling_map=coupling_map) # VF2 qubit mapping algorithm\n",
        "pass_manager = PassManager(vf2)\n",
        "mapped_circ = pass_manager.run(qc)"
      ],
      "metadata": {
        "id": "7kym61FW31oy"
      },
      "execution_count": null,
      "outputs": []
    },
    {
      "cell_type": "code",
      "source": [
        "mapped_circ.draw()"
      ],
      "metadata": {
        "colab": {
          "base_uri": "https://localhost:8080/",
          "height": 186
        },
        "id": "xBhR_Ur335lT",
        "outputId": "257212f5-9e29-4f08-d50e-205b8b1e18f7"
      },
      "execution_count": null,
      "outputs": [
        {
          "output_type": "execute_result",
          "data": {
            "text/plain": [
              "         ┌───┐                    \n",
              "q_2 -> 0 ┤ H ├──■────■────────────\n",
              "         └───┘┌─┴─┐  │            \n",
              "q_3 -> 1 ─────┤ X ├──┼────■───────\n",
              "              └───┘  │    │  ┌───┐\n",
              "q_0 -> 2 ────────────┼────┼──┤ X ├\n",
              "                   ┌─┴─┐  │  └─┬─┘\n",
              "q_1 -> 3 ──────────┤ X ├──┼────■──\n",
              "                   └───┘┌─┴─┐     \n",
              "q_4 -> 4 ───────────────┤ X ├─────\n",
              "                        └───┘     "
            ],
            "text/html": [
              "<pre style=\"word-wrap: normal;white-space: pre;background: #fff0;line-height: 1.1;font-family: &quot;Courier New&quot;,Courier,monospace\">         ┌───┐                    \n",
              "q_2 -> 0 ┤ H ├──■────■────────────\n",
              "         └───┘┌─┴─┐  │            \n",
              "q_3 -> 1 ─────┤ X ├──┼────■───────\n",
              "              └───┘  │    │  ┌───┐\n",
              "q_0 -> 2 ────────────┼────┼──┤ X ├\n",
              "                   ┌─┴─┐  │  └─┬─┘\n",
              "q_1 -> 3 ──────────┤ X ├──┼────■──\n",
              "                   └───┘┌─┴─┐     \n",
              "q_4 -> 4 ───────────────┤ X ├─────\n",
              "                        └───┘     </pre>"
            ]
          },
          "metadata": {},
          "execution_count": 39
        }
      ]
    },
    {
      "cell_type": "code",
      "source": [
        "mapped_circ.layout.initial_layout.get_virtual_bits()"
      ],
      "metadata": {
        "colab": {
          "base_uri": "https://localhost:8080/"
        },
        "id": "GatkkyAy4FKr",
        "outputId": "2278827b-93b5-4ff7-d5d8-5462f45b5cf2"
      },
      "execution_count": null,
      "outputs": [
        {
          "output_type": "execute_result",
          "data": {
            "text/plain": [
              "{Qubit(QuantumRegister(5, 'q'), 0): 2,\n",
              " Qubit(QuantumRegister(5, 'q'), 1): 3,\n",
              " Qubit(QuantumRegister(5, 'q'), 3): 1,\n",
              " Qubit(QuantumRegister(5, 'q'), 4): 4,\n",
              " Qubit(QuantumRegister(5, 'q'), 2): 0}"
            ]
          },
          "metadata": {},
          "execution_count": 40
        }
      ]
    },
    {
      "cell_type": "code",
      "source": [
        "# Wrap Qiskit VF2 Code\n",
        "ghz_circ = [('H',0),('CX',0,1),('CX',1,4),('CX',0,3),('CX',3,2)]\n",
        "\n",
        "def VF2_mapping_qiskit(circuit, coupling_map):\n",
        "    num_circ_qubits = max([max(g[1:]) for g in circuit]) + 1\n",
        "    qc = QuantumCircuit(num_circ_qubits)\n",
        "    for g in circuit:\n",
        "        if g[0] == 'H':\n",
        "            qc.h(g[1])\n",
        "        elif g[0] == 'CX':\n",
        "            qc.cx(g[1], g[2])\n",
        "        else:\n",
        "            pass # add new conversion rules as you like\n",
        "    coupling_map = CouplingMap(couplinglist=coupling_map)\n",
        "    vf2 = VF2Layout(coupling_map=coupling_map) # VF2 qubit mapping algorithm\n",
        "    pass_manager = PassManager(vf2)\n",
        "    mapped_circ = pass_manager.run(qc)\n",
        "    mapping_dict = {}\n",
        "    for qb in range(num_circ_qubits):\n",
        "        mapping_dict[qb] = -1\n",
        "    for k, v in mapped_circ.layout.initial_layout.get_virtual_bits().items():\n",
        "        lqb = int(str(k)[:-1].split()[-1])\n",
        "        mapping_dict[lqb] = v\n",
        "    return [mapping_dict[qb] for qb in range(num_circ_qubits)]\n",
        "\n",
        "physical_qubits = VF2_mapping_qiskit(ghz_circ, linear_device_coupling_map)\n",
        "print(physical_qubits)\n",
        "linear_device_coupling_map = [[0, 1], [1, 2], [2, 3], [3, 4], [4, 5], [5, 6], [6, 7], [7, 8]]\n",
        "draw_graph([(pqb, {'color':'red','label':f\"{pqb}:q_{lqb}\"}) for lqb,pqb in enumerate(physical_qubits)], linear_device_coupling_map)\n",
        "# the physical qubit graph is isomorphism to circuit interaction graph"
      ],
      "metadata": {
        "colab": {
          "base_uri": "https://localhost:8080/",
          "height": 424
        },
        "id": "Fjo2GAFY4KpK",
        "outputId": "fde6be26-5aac-4020-abdb-3e879c41ae54"
      },
      "execution_count": null,
      "outputs": [
        {
          "output_type": "stream",
          "name": "stdout",
          "text": [
            "[2, 3, 0, 1, 4]\n"
          ]
        },
        {
          "output_type": "display_data",
          "data": {
            "text/plain": [
              "<Figure size 640x480 with 1 Axes>"
            ],
            "image/png": "[encoded data removed]"
          },
          "metadata": {}
        }
      ]
    },
    {
      "cell_type": "code",
      "source": [
        "loss_for_mapping(partition_func, penalty_func, cx_dist_func, VF2_mapping_qiskit, ghz_circ, linear_device_coupling_map)"
      ],
      "metadata": {
        "colab": {
          "base_uri": "https://localhost:8080/"
        },
        "id": "wxFfqfUX6gvT",
        "outputId": "e68d3dde-8819-42a8-b780-bb859bae7a12"
      },
      "execution_count": null,
      "outputs": [
        {
          "output_type": "execute_result",
          "data": {
            "text/plain": [
              "0.0"
            ]
          },
          "metadata": {},
          "execution_count": 140
        }
      ]
    },
    {
      "cell_type": "markdown",
      "source": [
        "#### Qiskit: Noise Adaptive Qubit Mapping (~5min)\n",
        "\n",
        "This qubit mapping considers the fidelity of coupling between qubits. It is one of the standard qubit mapping method supported by Qiskit."
      ],
      "metadata": {
        "id": "hPS04kJM_Leq"
      }
    },
    {
      "cell_type": "code",
      "source": [
        "# The example of Qiskit NoiseAdaptive mapping\n",
        "\n",
        "# NoiseAdaptive qubit mapping of qiskit requires Backend instead of Coupling_map\n",
        "def backend_from_weighted_coupling_map(weighted_coupling_map):\n",
        "    from qiskit.providers.models.backendproperties import Nduv, Gate\n",
        "    from qiskit.providers.models import BackendProperties\n",
        "    import datetime\n",
        "    curtime = datetime.datetime(2020,8,10)\n",
        "    # readout error of qubits\n",
        "    num_physical_qubits = max([max(weighted_edge[:2]) for weighted_edge in weighted_coupling_map]) + 1\n",
        "    qubits_info = [[Nduv(curtime,'readout_error','',0.0)] for i in range(num_physical_qubits)]\n",
        "    # cx error of qubits\n",
        "    gates_info = []\n",
        "    for weighted_edge in weighted_coupling_map:\n",
        "        print(\"Added: \", weighted_edge[:2], weighted_edge[:2][::-1], weighted_edge[2], weighted_edge[0], weighted_edge[1])\n",
        "        gates_info.append(Gate(weighted_edge[:2],'cx',[Nduv(curtime,'gate_error','',weighted_edge[2])], name=f\"cx_{weighted_edge[0]}_{weighted_edge[1]}\"))\n",
        "        gates_info.append(Gate(weighted_edge[:2][::-1],'cx',[Nduv(curtime,'gate_error','',weighted_edge[2])], name=f\"cx_{weighted_edge[1]}_{weighted_edge[0]}\"))\n",
        "    backend = BackendProperties('QubitMapping','0.0.1',curtime, qubits_info,gates_info,[])\n",
        "    return backend\n",
        "\n",
        "from qiskit.transpiler.passes import NoiseAdaptiveLayout\n",
        "\n",
        "# the GHZ state preparation circuit\n",
        "num_qubit = 5\n",
        "qc = QuantumCircuit(num_qubit)\n",
        "qc.h(0)\n",
        "qc.cx(0,1)\n",
        "qc.cx(1,4)\n",
        "qc.cx(0,3)\n",
        "qc.cx(3,2)\n",
        "\n",
        "weighted_linear_device_coupling_map = [[0,1,0.5], [1,2,0.0], [2,3,0.0], [3,4,0.0], [4,5,0.0], [5,6,0.0], [6,7,0.0], [7,8,0.0]] # [0,1,0.5]: qb0,qb1,error rate of the link\n",
        "backend = backend_from_weighted_coupling_map(weighted_linear_device_coupling_map)\n",
        "nal = NoiseAdaptiveLayout(backend) # NoiseAdaptive qubit mapping\n",
        "pass_manager = PassManager([nal])\n",
        "mapped_circ = pass_manager.run(qc)"
      ],
      "metadata": {
        "id": "LisaLW8hAlzy",
        "colab": {
          "base_uri": "https://localhost:8080/"
        },
        "outputId": "da61e558-4f56-497d-93d5-0b6d5a33d201"
      },
      "execution_count": null,
      "outputs": [
        {
          "output_type": "stream",
          "name": "stdout",
          "text": [
            "Added:  [0, 1] [1, 0] 0.5 0 1\n",
            "Added:  [1, 2] [2, 1] 0.0 1 2\n",
            "Added:  [2, 3] [3, 2] 0.0 2 3\n",
            "Added:  [3, 4] [4, 3] 0.0 3 4\n",
            "Added:  [4, 5] [5, 4] 0.0 4 5\n",
            "Added:  [5, 6] [6, 5] 0.0 5 6\n",
            "Added:  [6, 7] [7, 6] 0.0 6 7\n",
            "Added:  [7, 8] [8, 7] 0.0 7 8\n"
          ]
        }
      ]
    },
    {
      "cell_type": "code",
      "source": [
        "mapped_circ.layout.initial_layout.get_virtual_bits() # coupling 0-1 is avoided in the qubit mapping"
      ],
      "metadata": {
        "colab": {
          "base_uri": "https://localhost:8080/"
        },
        "id": "ZnDo3FUCCc01",
        "outputId": "691ee1a1-d172-4011-fb20-74517a85a65a"
      },
      "execution_count": null,
      "outputs": [
        {
          "output_type": "execute_result",
          "data": {
            "text/plain": [
              "{Qubit(QuantumRegister(5, 'q'), 0): 1,\n",
              " Qubit(QuantumRegister(5, 'q'), 1): 2,\n",
              " Qubit(QuantumRegister(5, 'q'), 2): 5,\n",
              " Qubit(QuantumRegister(5, 'q'), 3): 3,\n",
              " Qubit(QuantumRegister(5, 'q'), 4): 4}"
            ]
          },
          "metadata": {},
          "execution_count": 44
        }
      ]
    },
    {
      "cell_type": "code",
      "source": [
        "draw_graph(None, [(edge[0],edge[1],{'weight':edge[2]}) for edge in weighted_linear_device_coupling_map])\n",
        "# coupling 0-1 should be avoided in the qubit mapping, as it is too noisy (larger weight means less fidelity)"
      ],
      "metadata": {
        "colab": {
          "base_uri": "https://localhost:8080/",
          "height": 406
        },
        "id": "mmlYlwYBF9Fx",
        "outputId": "0ae1cc7a-c3c3-46c1-caa7-80fd047fb3f2"
      },
      "execution_count": null,
      "outputs": [
        {
          "output_type": "display_data",
          "data": {
            "text/plain": [
              "<Figure size 640x480 with 1 Axes>"
            ],
            "image/png": "[encoded data removed]"
          },
          "metadata": {}
        }
      ]
    },
    {
      "cell_type": "code",
      "source": [
        "def weighted_cx_dist_func(q_a, q_b, weighted_coupling_map):\n",
        "    num_physical_qubit = max([max(weighted_edge[:2]) for weighted_edge in weighted_coupling_map])+1 # the number of physical qubits on quantum device\n",
        "    graph = [[0 for i in range(num_physical_qubit)] for j in range(num_physical_qubit)] # adjacency matrix\n",
        "    for weighted_edge in weighted_coupling_map:\n",
        "        graph[weighted_edge[0]][weighted_edge[1]] = 1 + 10*weighted_edge[2]\n",
        "        graph[weighted_edge[1]][weighted_edge[0]] = 1 + 10*weighted_edge[2]\n",
        "    return dijkstra_algorithm(q_a, q_b, graph)"
      ],
      "metadata": {
        "id": "H7mwgoc4C8Z5"
      },
      "execution_count": null,
      "outputs": []
    },
    {
      "cell_type": "code",
      "source": [
        "# Wrap Qiskit NoiseAdaptive Code\n",
        "ghz_circ = [('H',0),('CX',0,1),('CX',1,4),('CX',0,3),('CX',3,2)]\n",
        "\n",
        "def NoiseAdaptive_mapping_qiskit(circuit, weighted_coupling_map):\n",
        "    num_circ_qubits = max([max(g[1:]) for g in circuit]) + 1\n",
        "    qc = QuantumCircuit(num_circ_qubits)\n",
        "    for g in circuit:\n",
        "        if g[0] == 'H':\n",
        "            qc.h(g[1])\n",
        "        elif g[0] == 'CX':\n",
        "            qc.cx(g[1], g[2])\n",
        "        else:\n",
        "            pass # add new conversion rules as you like\n",
        "    backend = backend_from_weighted_coupling_map(weighted_coupling_map)\n",
        "    nal = NoiseAdaptiveLayout(backend) # NoiseAdaptive qubit mapping\n",
        "    pass_manager = PassManager([nal])\n",
        "    mapped_circ = pass_manager.run(qc)\n",
        "    mapping_dict = {}\n",
        "    for qb in range(num_circ_qubits):\n",
        "        mapping_dict[qb] = -1\n",
        "    for k, v in mapped_circ.layout.initial_layout.get_virtual_bits().items():\n",
        "        lqb = int(str(k)[:-1].split()[-1])\n",
        "        mapping_dict[lqb] = v\n",
        "    return [mapping_dict[qb] for qb in range(num_circ_qubits)]\n",
        "\n",
        "loss_for_mapping(partition_func, penalty_func, weighted_cx_dist_func, NoiseAdaptive_mapping_qiskit, ghz_circ, weighted_linear_device_coupling_map)"
      ],
      "metadata": {
        "colab": {
          "base_uri": "https://localhost:8080/"
        },
        "id": "jt-dvOhw_cVJ",
        "outputId": "e0147e00-c6f8-44bb-91cd-ddc4f2ab92ab"
      },
      "execution_count": null,
      "outputs": [
        {
          "output_type": "execute_result",
          "data": {
            "text/plain": [
              "1.0089761025373678"
            ]
          },
          "metadata": {},
          "execution_count": 54
        }
      ]
    },
    {
      "cell_type": "code",
      "source": [
        "# because of the noisy coupling between qubits, the original manual qubit mapping is not optimal anymore!\n",
        "loss_for_mapping(partition_func, penalty_func, weighted_cx_dist_func, manual_mapping_func, ghz_circ, weighted_linear_device_coupling_map)"
      ],
      "metadata": {
        "colab": {
          "base_uri": "https://localhost:8080/"
        },
        "id": "oqa2vFUEEd4x",
        "outputId": "833580d1-479a-48df-8949-a30b3f6d913f"
      },
      "execution_count": null,
      "outputs": [
        {
          "output_type": "execute_result",
          "data": {
            "text/plain": [
              "1.3652635966340865"
            ]
          },
          "metadata": {},
          "execution_count": 55
        }
      ]
    },
    {
      "cell_type": "code",
      "source": [
        "# However, we can still get another optimal manual qubit mapping when coupling noise is presented\n",
        "def manual_mapping_func(circuit, coupling_map): # the original manual qubit mapping where no noise is presented\n",
        "    return [2,1,4,3,0]\n",
        "def noise_manual_mapping_func(circuit, coupling_map): # the optimal manual qubit mapping when coupling noise is presented\n",
        "    return [3,2,5,4,1]\n",
        "loss_for_mapping(partition_func, penalty_func, weighted_cx_dist_func, noise_manual_mapping_func, ghz_circ, weighted_linear_device_coupling_map)\n",
        "# this result is better than NoiseAdaptive qubit mapping"
      ],
      "metadata": {
        "colab": {
          "base_uri": "https://localhost:8080/"
        },
        "id": "AXLXqvR2E4bZ",
        "outputId": "32ebcc8c-b25f-489c-a6b5-3833908a3933"
      },
      "execution_count": null,
      "outputs": [
        {
          "output_type": "execute_result",
          "data": {
            "text/plain": [
              "0.6884468444990003"
            ]
          },
          "metadata": {},
          "execution_count": 56
        }
      ]
    }
  ]
}